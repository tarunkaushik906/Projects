{
 "cells": [
  {
   "cell_type": "code",
   "execution_count": 1,
   "id": "1d8e7288-e2ad-4f7c-bd98-f96e36f19274",
   "metadata": {},
   "outputs": [],
   "source": [
    "import pandas as pd\n",
    "import numpy as np\n",
    "import matplotlib as plt\n",
    "import seaborn as sns"
   ]
  },
  {
   "cell_type": "code",
   "execution_count": 2,
   "id": "8a6aaa98-6153-4ec2-9b03-376adf69791e",
   "metadata": {},
   "outputs": [],
   "source": [
    "df = pd.read_csv(\"OTT.csv\")"
   ]
  },
  {
   "cell_type": "code",
   "execution_count": 3,
   "id": "53bf7ecd-b61b-4734-8ca7-5659896bc93d",
   "metadata": {},
   "outputs": [
    {
     "data": {
      "text/plain": [
       "(8807, 12)"
      ]
     },
     "execution_count": 3,
     "metadata": {},
     "output_type": "execute_result"
    }
   ],
   "source": [
    "df.shape"
   ]
  },
  {
   "cell_type": "markdown",
   "id": "9f90dad7-e013-43b5-9aee-09e49c4ca32c",
   "metadata": {},
   "source": [
    "Basic metric analysis"
   ]
  },
  {
   "cell_type": "code",
   "execution_count": 4,
   "id": "496713bf-37c4-494b-96d4-916fbd6a273d",
   "metadata": {},
   "outputs": [
    {
     "name": "stdout",
     "output_type": "stream",
     "text": [
      "<class 'pandas.core.frame.DataFrame'>\n",
      "RangeIndex: 8807 entries, 0 to 8806\n",
      "Data columns (total 12 columns):\n",
      " #   Column        Non-Null Count  Dtype \n",
      "---  ------        --------------  ----- \n",
      " 0   show_id       8807 non-null   object\n",
      " 1   type          8807 non-null   object\n",
      " 2   title         8807 non-null   object\n",
      " 3   director      6173 non-null   object\n",
      " 4   cast          7982 non-null   object\n",
      " 5   country       7976 non-null   object\n",
      " 6   date_added    8797 non-null   object\n",
      " 7   release_year  8807 non-null   int64 \n",
      " 8   rating        8803 non-null   object\n",
      " 9   duration      8804 non-null   object\n",
      " 10  listed_in     8807 non-null   object\n",
      " 11  description   8807 non-null   object\n",
      "dtypes: int64(1), object(11)\n",
      "memory usage: 825.8+ KB\n"
     ]
    }
   ],
   "source": [
    "df.info()"
   ]
  },
  {
   "cell_type": "code",
   "execution_count": 5,
   "id": "6003c5ed-ab64-48da-8a7f-7b1089c6d709",
   "metadata": {},
   "outputs": [
    {
     "data": {
      "text/html": [
       "<div>\n",
       "<style scoped>\n",
       "    .dataframe tbody tr th:only-of-type {\n",
       "        vertical-align: middle;\n",
       "    }\n",
       "\n",
       "    .dataframe tbody tr th {\n",
       "        vertical-align: top;\n",
       "    }\n",
       "\n",
       "    .dataframe thead th {\n",
       "        text-align: right;\n",
       "    }\n",
       "</style>\n",
       "<table border=\"1\" class=\"dataframe\">\n",
       "  <thead>\n",
       "    <tr style=\"text-align: right;\">\n",
       "      <th></th>\n",
       "      <th>release_year</th>\n",
       "    </tr>\n",
       "  </thead>\n",
       "  <tbody>\n",
       "    <tr>\n",
       "      <th>count</th>\n",
       "      <td>8807.000000</td>\n",
       "    </tr>\n",
       "    <tr>\n",
       "      <th>mean</th>\n",
       "      <td>2014.180198</td>\n",
       "    </tr>\n",
       "    <tr>\n",
       "      <th>std</th>\n",
       "      <td>8.819312</td>\n",
       "    </tr>\n",
       "    <tr>\n",
       "      <th>min</th>\n",
       "      <td>1925.000000</td>\n",
       "    </tr>\n",
       "    <tr>\n",
       "      <th>25%</th>\n",
       "      <td>2013.000000</td>\n",
       "    </tr>\n",
       "    <tr>\n",
       "      <th>50%</th>\n",
       "      <td>2017.000000</td>\n",
       "    </tr>\n",
       "    <tr>\n",
       "      <th>75%</th>\n",
       "      <td>2019.000000</td>\n",
       "    </tr>\n",
       "    <tr>\n",
       "      <th>max</th>\n",
       "      <td>2021.000000</td>\n",
       "    </tr>\n",
       "  </tbody>\n",
       "</table>\n",
       "</div>"
      ],
      "text/plain": [
       "       release_year\n",
       "count   8807.000000\n",
       "mean    2014.180198\n",
       "std        8.819312\n",
       "min     1925.000000\n",
       "25%     2013.000000\n",
       "50%     2017.000000\n",
       "75%     2019.000000\n",
       "max     2021.000000"
      ]
     },
     "execution_count": 5,
     "metadata": {},
     "output_type": "execute_result"
    }
   ],
   "source": [
    "df.describe()"
   ]
  },
  {
   "cell_type": "markdown",
   "id": "f3c960ee-460d-4573-85c8-7bc0d5886778",
   "metadata": {},
   "source": [
    "Find the number of blank/NA values"
   ]
  },
  {
   "cell_type": "code",
   "execution_count": 6,
   "id": "259b7bfc-8ee7-435a-bcd1-4eed706b876d",
   "metadata": {},
   "outputs": [
    {
     "data": {
      "text/plain": [
       "show_id            0\n",
       "type               0\n",
       "title              0\n",
       "director        2634\n",
       "cast             825\n",
       "country          831\n",
       "date_added        10\n",
       "release_year       0\n",
       "rating             4\n",
       "duration           3\n",
       "listed_in          0\n",
       "description        0\n",
       "dtype: int64"
      ]
     },
     "execution_count": 6,
     "metadata": {},
     "output_type": "execute_result"
    }
   ],
   "source": [
    "df.isna().sum(axis=0)"
   ]
  },
  {
   "cell_type": "markdown",
   "id": "55b3f12a-f348-48d7-a3d0-3aea3f0ea9cf",
   "metadata": {},
   "source": [
    "1. Un-nesting the columns\n",
    "Cast, director, listed_in and country columns have nested values."
   ]
  },
  {
   "cell_type": "code",
   "execution_count": 7,
   "id": "030e2011-d1e2-46d5-894c-b029012a1276",
   "metadata": {},
   "outputs": [],
   "source": [
    "df[\"director\"] = df[\"director\"].str.split(\", \")"
   ]
  },
  {
   "cell_type": "code",
   "execution_count": 8,
   "id": "2baa4766-26ea-4e96-b32c-9d4928dfd85f",
   "metadata": {},
   "outputs": [],
   "source": [
    "df = df.explode(\"director\")"
   ]
  },
  {
   "cell_type": "code",
   "execution_count": 9,
   "id": "87dcad96-5318-42c6-885e-789567e87fe2",
   "metadata": {},
   "outputs": [],
   "source": [
    "df[\"cast\"] = df[\"cast\"].str.split(\", \")"
   ]
  },
  {
   "cell_type": "code",
   "execution_count": 10,
   "id": "95126905-68e6-42e4-8fb7-369cd30d96b9",
   "metadata": {},
   "outputs": [],
   "source": [
    "df = df.explode(\"cast\")"
   ]
  },
  {
   "cell_type": "code",
   "execution_count": 11,
   "id": "88dee956-647e-48c4-8b0a-dc056a244105",
   "metadata": {},
   "outputs": [],
   "source": [
    "df[\"country\"] = df[\"country\"].str.split(\", \")"
   ]
  },
  {
   "cell_type": "code",
   "execution_count": 12,
   "id": "140b8207-d7e9-4fc7-9419-9ee7ad8b0d25",
   "metadata": {},
   "outputs": [],
   "source": [
    "df = df.explode(\"country\")"
   ]
  },
  {
   "cell_type": "code",
   "execution_count": 13,
   "id": "46500bda-58c1-4664-979e-50b8ac73c2b4",
   "metadata": {},
   "outputs": [],
   "source": [
    "df[\"listed_in\"] = df[\"listed_in\"].str.split(\", \")"
   ]
  },
  {
   "cell_type": "code",
   "execution_count": 14,
   "id": "fa3e89a2-22c5-480e-9cac-5013f1aff2b7",
   "metadata": {},
   "outputs": [],
   "source": [
    "df = df.explode(\"listed_in\")"
   ]
  },
  {
   "cell_type": "markdown",
   "id": "24ad2c67-4d1c-4773-a2dd-66288bb9ec09",
   "metadata": {},
   "source": [
    "Fill null values with appropriate values"
   ]
  },
  {
   "cell_type": "code",
   "execution_count": 15,
   "id": "246031ef-b886-48bb-9716-b2ee653eec6a",
   "metadata": {},
   "outputs": [
    {
     "name": "stdout",
     "output_type": "stream",
     "text": [
      "<class 'pandas.core.frame.DataFrame'>\n",
      "Int64Index: 201991 entries, 0 to 8806\n",
      "Data columns (total 12 columns):\n",
      " #   Column        Non-Null Count   Dtype \n",
      "---  ------        --------------   ----- \n",
      " 0   show_id       201991 non-null  object\n",
      " 1   type          201991 non-null  object\n",
      " 2   title         201991 non-null  object\n",
      " 3   director      151348 non-null  object\n",
      " 4   cast          199845 non-null  object\n",
      " 5   country       190094 non-null  object\n",
      " 6   date_added    201833 non-null  object\n",
      " 7   release_year  201991 non-null  int64 \n",
      " 8   rating        201924 non-null  object\n",
      " 9   duration      201988 non-null  object\n",
      " 10  listed_in     201991 non-null  object\n",
      " 11  description   201991 non-null  object\n",
      "dtypes: int64(1), object(11)\n",
      "memory usage: 20.0+ MB\n"
     ]
    }
   ],
   "source": [
    "df.info()"
   ]
  },
  {
   "cell_type": "code",
   "execution_count": 16,
   "id": "d39a2cae-ef26-4f4d-91d9-9cf24243e4e5",
   "metadata": {},
   "outputs": [],
   "source": [
    "df[\"director\"].fillna(\"Unknown Director\",inplace=True)"
   ]
  },
  {
   "cell_type": "code",
   "execution_count": 17,
   "id": "ee23ee77-2432-47d8-9e16-4bb090a90e8c",
   "metadata": {},
   "outputs": [],
   "source": [
    "df[\"cast\"].fillna(\"Unknown Actor\",inplace=True)"
   ]
  },
  {
   "cell_type": "code",
   "execution_count": 18,
   "id": "1ca00425-f411-43e2-9624-16d4917dac79",
   "metadata": {},
   "outputs": [],
   "source": [
    "df[\"country\"].fillna(\"Unknown Country\",inplace=True)"
   ]
  },
  {
   "cell_type": "code",
   "execution_count": 19,
   "id": "a04b39f7-34f0-49d5-9a48-2ffc73307f31",
   "metadata": {},
   "outputs": [],
   "source": [
    "df[\"date_added\"].fillna(\"Unknown date\",inplace=True)"
   ]
  },
  {
   "cell_type": "code",
   "execution_count": 20,
   "id": "46a9bf6e-c666-4d47-b7e4-2152acb4c419",
   "metadata": {},
   "outputs": [],
   "source": [
    "df[\"rating\"].fillna(\"Unknown rating\",inplace=True)"
   ]
  },
  {
   "cell_type": "code",
   "execution_count": 21,
   "id": "82752a40-d6fb-4513-a190-58b35a6bfb87",
   "metadata": {},
   "outputs": [],
   "source": [
    "df[\"duration\"].fillna(\"Unknown duration\",inplace=True)"
   ]
  },
  {
   "cell_type": "code",
   "execution_count": 22,
   "id": "90dd80ac-8768-4737-9b7d-64eb17eb7982",
   "metadata": {},
   "outputs": [],
   "source": [
    "df.reset_index(drop=True,inplace=True)"
   ]
  },
  {
   "cell_type": "code",
   "execution_count": 23,
   "id": "4cbc9736-befa-4160-8659-8aeeaca4bc9d",
   "metadata": {},
   "outputs": [
    {
     "data": {
      "text/plain": [
       "pandas.core.frame.DataFrame"
      ]
     },
     "execution_count": 23,
     "metadata": {},
     "output_type": "execute_result"
    }
   ],
   "source": [
    "type(df[df[\"country\"]==\"\"])"
   ]
  },
  {
   "cell_type": "code",
   "execution_count": 24,
   "id": "cb4341bb-855e-4444-af9a-011d909abcf8",
   "metadata": {},
   "outputs": [],
   "source": [
    "index = df[df[\"country\"]==\"\"].index\n",
    "df.drop(index,inplace=True)"
   ]
  },
  {
   "cell_type": "markdown",
   "id": "30eee750-99da-40c6-a3fe-bf47cdd0d0dc",
   "metadata": {},
   "source": []
  },
  {
   "cell_type": "markdown",
   "id": "61cb6b2c-8d7d-4118-bc5e-ad6c60950ece",
   "metadata": {},
   "source": [
    "Unique attributes"
   ]
  },
  {
   "cell_type": "code",
   "execution_count": 25,
   "id": "3abf9ea2-e2a9-425f-a21f-79ffc70906c7",
   "metadata": {},
   "outputs": [
    {
     "data": {
      "text/plain": [
       "4994"
      ]
     },
     "execution_count": 25,
     "metadata": {},
     "output_type": "execute_result"
    }
   ],
   "source": [
    "df[\"director\"].nunique()"
   ]
  },
  {
   "cell_type": "code",
   "execution_count": 26,
   "id": "c79bceda-56b8-4901-8edf-9c8b2ed3bee9",
   "metadata": {},
   "outputs": [
    {
     "data": {
      "text/plain": [
       "127"
      ]
     },
     "execution_count": 26,
     "metadata": {},
     "output_type": "execute_result"
    }
   ],
   "source": [
    "df[\"country\"].nunique()"
   ]
  },
  {
   "cell_type": "code",
   "execution_count": 27,
   "id": "4644c503-b9eb-4265-bb5c-9caa615cc103",
   "metadata": {},
   "outputs": [
    {
     "data": {
      "text/plain": [
       "36440"
      ]
     },
     "execution_count": 27,
     "metadata": {},
     "output_type": "execute_result"
    }
   ],
   "source": [
    "df[\"cast\"].nunique()"
   ]
  },
  {
   "cell_type": "code",
   "execution_count": 28,
   "id": "777d3d8d-2bf4-4f22-a099-d74262ce6a20",
   "metadata": {},
   "outputs": [
    {
     "data": {
      "text/plain": [
       "42"
      ]
     },
     "execution_count": 28,
     "metadata": {},
     "output_type": "execute_result"
    }
   ],
   "source": [
    "df[\"listed_in\"].nunique()"
   ]
  },
  {
   "cell_type": "code",
   "execution_count": 29,
   "id": "43eb22fa-c1a7-47a8-8017-76f8b2f38252",
   "metadata": {},
   "outputs": [
    {
     "data": {
      "text/plain": [
       "18"
      ]
     },
     "execution_count": 29,
     "metadata": {},
     "output_type": "execute_result"
    }
   ],
   "source": [
    "df[\"rating\"].nunique()"
   ]
  },
  {
   "cell_type": "markdown",
   "id": "39053219-be92-4ac9-a45e-04f26c5ff822",
   "metadata": {},
   "source": [
    "1. Find the counts of each categorical variable both using graphical and non-graphical analysis.\n",
    "\n",
    "We will find count of categorical variables for columns country, listed_in, director, rating and cast. Since each row has been duplicated many times due to un-nesting, we can't get count simply by count function. We would have to use the count of \"show_id\" to get right count. We will get the count first, then plot graphs for highest 10 values since number of variables is too large."
   ]
  },
  {
   "cell_type": "code",
   "execution_count": 30,
   "id": "8b42d4db-d66b-4ee7-9122-00c5f64ff058",
   "metadata": {},
   "outputs": [
    {
     "data": {
      "text/plain": [
       "country\n",
       "Afghanistan      1\n",
       "Albania          1\n",
       "Algeria          3\n",
       "Angola           1\n",
       "Argentina       91\n",
       "                ..\n",
       "Vatican City     1\n",
       "Venezuela        4\n",
       "Vietnam          7\n",
       "West Germany     5\n",
       "Zimbabwe         3\n",
       "Name: show_id, Length: 127, dtype: int64"
      ]
     },
     "execution_count": 30,
     "metadata": {},
     "output_type": "execute_result"
    }
   ],
   "source": [
    "x = df.groupby(\"country\")[\"show_id\"].nunique()\n",
    "x"
   ]
  },
  {
   "cell_type": "code",
   "execution_count": 31,
   "id": "c1e75e3a-7207-41e2-b51c-394e4f87dddc",
   "metadata": {},
   "outputs": [
    {
     "data": {
      "text/plain": [
       "<Axes: xlabel='country'>"
      ]
     },
     "execution_count": 31,
     "metadata": {},
     "output_type": "execute_result"
    },
    {
     "data": {
      "image/png": "[encoded data removed]",
      "text/plain": [
       "<Figure size 640x480 with 1 Axes>"
      ]
     },
     "metadata": {},
     "output_type": "display_data"
    }
   ],
   "source": [
    "x.sort_values(ascending=False).head(10).plot(kind=\"bar\")"
   ]
  },
  {
   "cell_type": "code",
   "execution_count": 32,
   "id": "913c77ad-a498-44c0-9c3a-bc390298d934",
   "metadata": {},
   "outputs": [
    {
     "data": {
      "text/plain": [
       "listed_in\n",
       "Action & Adventure               859\n",
       "Anime Features                    71\n",
       "Anime Series                     176\n",
       "British TV Shows                 253\n",
       "Children & Family Movies         641\n",
       "Classic & Cult TV                 28\n",
       "Classic Movies                   116\n",
       "Comedies                        1674\n",
       "Crime TV Shows                   470\n",
       "Cult Movies                       71\n",
       "Documentaries                    869\n",
       "Docuseries                       395\n",
       "Dramas                          2427\n",
       "Faith & Spirituality              65\n",
       "Horror Movies                    357\n",
       "Independent Movies               756\n",
       "International Movies            2752\n",
       "International TV Shows          1351\n",
       "Kids' TV                         451\n",
       "Korean TV Shows                  151\n",
       "LGBTQ Movies                     102\n",
       "Movies                            57\n",
       "Music & Musicals                 375\n",
       "Reality TV                       255\n",
       "Romantic Movies                  616\n",
       "Romantic TV Shows                370\n",
       "Sci-Fi & Fantasy                 243\n",
       "Science & Nature TV               92\n",
       "Spanish-Language TV Shows        174\n",
       "Sports Movies                    219\n",
       "Stand-Up Comedy                  343\n",
       "Stand-Up Comedy & Talk Shows      56\n",
       "TV Action & Adventure            168\n",
       "TV Comedies                      581\n",
       "TV Dramas                        763\n",
       "TV Horror                         75\n",
       "TV Mysteries                      98\n",
       "TV Sci-Fi & Fantasy               84\n",
       "TV Shows                          16\n",
       "TV Thrillers                      57\n",
       "Teen TV Shows                     69\n",
       "Thrillers                        577\n",
       "Name: show_id, dtype: int64"
      ]
     },
     "execution_count": 32,
     "metadata": {},
     "output_type": "execute_result"
    }
   ],
   "source": [
    "x = df.groupby(\"listed_in\")[\"show_id\"].nunique()\n",
    "x"
   ]
  },
  {
   "cell_type": "code",
   "execution_count": 33,
   "id": "3e8188c5-f5b6-44ed-886d-63d52840d15a",
   "metadata": {},
   "outputs": [
    {
     "data": {
      "text/plain": [
       "<Axes: xlabel='listed_in'>"
      ]
     },
     "execution_count": 33,
     "metadata": {},
     "output_type": "execute_result"
    },
    {
     "data": {
      "image/png": "[encoded data removed]",
      "text/plain": [
       "<Figure size 640x480 with 1 Axes>"
      ]
     },
     "metadata": {},
     "output_type": "display_data"
    }
   ],
   "source": [
    "x.sort_values(ascending=False).head(10).plot(kind=\"bar\")"
   ]
  },
  {
   "cell_type": "code",
   "execution_count": 34,
   "id": "f5964697-58be-4a3a-b7f6-7c237cde6d8f",
   "metadata": {},
   "outputs": [
    {
     "data": {
      "text/plain": [
       "type\n",
       "Movie      6131\n",
       "TV Show    2676\n",
       "Name: show_id, dtype: int64"
      ]
     },
     "execution_count": 34,
     "metadata": {},
     "output_type": "execute_result"
    }
   ],
   "source": [
    "x = df.groupby(\"type\")[\"show_id\"].nunique()\n",
    "x"
   ]
  },
  {
   "cell_type": "code",
   "execution_count": 35,
   "id": "b6e26294-3cf7-47a7-8c98-01c66cc29ab9",
   "metadata": {},
   "outputs": [
    {
     "data": {
      "text/plain": [
       "<Axes: xlabel='type'>"
      ]
     },
     "execution_count": 35,
     "metadata": {},
     "output_type": "execute_result"
    },
    {
     "data": {
      "image/png": "[encoded data removed]",
      "text/plain": [
       "<Figure size 640x480 with 1 Axes>"
      ]
     },
     "metadata": {},
     "output_type": "display_data"
    }
   ],
   "source": [
    "x.sort_values(ascending=False).plot(kind=\"bar\")"
   ]
  },
  {
   "cell_type": "code",
   "execution_count": 36,
   "id": "174d6289-bb23-411d-81dd-65df8d553dc8",
   "metadata": {},
   "outputs": [
    {
     "data": {
      "text/plain": [
       "director\n",
       "A. L. Vijay            2\n",
       "A. Raajdheep           1\n",
       "A. Salaam              1\n",
       "A.R. Murugadoss        2\n",
       "Aadish Keluskar        1\n",
       "                      ..\n",
       "Éric Warin             1\n",
       "Ísold Uggadóttir       1\n",
       "Óskar Thór Axelsson    1\n",
       "Ömer Faruk Sorak       3\n",
       "Şenol Sönmez           2\n",
       "Name: show_id, Length: 4994, dtype: int64"
      ]
     },
     "execution_count": 36,
     "metadata": {},
     "output_type": "execute_result"
    }
   ],
   "source": [
    "x = df.groupby(\"director\")[\"show_id\"].nunique()\n",
    "x"
   ]
  },
  {
   "cell_type": "code",
   "execution_count": 37,
   "id": "27a80349-102d-47bc-a6e9-6221c229a95c",
   "metadata": {},
   "outputs": [
    {
     "data": {
      "text/plain": [
       "<Axes: xlabel='director'>"
      ]
     },
     "execution_count": 37,
     "metadata": {},
     "output_type": "execute_result"
    },
    {
     "data": {
      "image/png": "[encoded data removed]",
      "text/plain": [
       "<Figure size 640x480 with 1 Axes>"
      ]
     },
     "metadata": {},
     "output_type": "display_data"
    }
   ],
   "source": [
    "x.sort_values(ascending=False).head(10).plot(kind=\"bar\")"
   ]
  },
  {
   "cell_type": "code",
   "execution_count": 38,
   "id": "9349def7-6c28-4777-96cc-e9fd072d78b5",
   "metadata": {},
   "outputs": [
    {
     "data": {
      "text/plain": [
       "rating\n",
       "66 min               1\n",
       "74 min               1\n",
       "84 min               1\n",
       "G                   41\n",
       "NC-17                3\n",
       "NR                  80\n",
       "PG                 287\n",
       "PG-13              490\n",
       "R                  799\n",
       "TV-14             2160\n",
       "TV-G               220\n",
       "TV-MA             3207\n",
       "TV-PG              863\n",
       "TV-Y               307\n",
       "TV-Y7              334\n",
       "TV-Y7-FV             6\n",
       "UR                   3\n",
       "Unknown rating       4\n",
       "Name: show_id, dtype: int64"
      ]
     },
     "execution_count": 38,
     "metadata": {},
     "output_type": "execute_result"
    }
   ],
   "source": [
    "x = df.groupby(\"rating\")[\"show_id\"].nunique()\n",
    "x"
   ]
  },
  {
   "cell_type": "code",
   "execution_count": 39,
   "id": "9f6b0204-1175-435f-8053-0fb6c17dedff",
   "metadata": {},
   "outputs": [
    {
     "data": {
      "text/plain": [
       "<Axes: xlabel='rating'>"
      ]
     },
     "execution_count": 39,
     "metadata": {},
     "output_type": "execute_result"
    },
    {
     "data": {
      "image/png": "[encoded data removed]",
      "text/plain": [
       "<Figure size 640x480 with 1 Axes>"
      ]
     },
     "metadata": {},
     "output_type": "display_data"
    }
   ],
   "source": [
    "x.sort_values(ascending=False).plot(kind=\"bar\")"
   ]
  },
  {
   "cell_type": "code",
   "execution_count": 40,
   "id": "fac97d2f-8c3b-48e8-a029-b9e348e886f0",
   "metadata": {},
   "outputs": [
    {
     "data": {
      "text/plain": [
       "cast\n",
       " Jr.                     2\n",
       "\"Riley\" Lakdhar Dridi    1\n",
       "'Najite Dede             2\n",
       "2 Chainz                 1\n",
       "2Mex                     1\n",
       "                        ..\n",
       "Şevket Çoruh             1\n",
       "Şinasi Yurtsever         3\n",
       "Şükran Ovalı             1\n",
       "Şükrü Özyıldız           2\n",
       "Ṣọpẹ́ Dìrísù             1\n",
       "Name: show_id, Length: 36440, dtype: int64"
      ]
     },
     "execution_count": 40,
     "metadata": {},
     "output_type": "execute_result"
    }
   ],
   "source": [
    "x = df.groupby(\"cast\")[\"show_id\"].nunique()\n",
    "x"
   ]
  },
  {
   "cell_type": "code",
   "execution_count": 41,
   "id": "0240728d-9177-45cc-9a5a-7072522c8658",
   "metadata": {},
   "outputs": [
    {
     "data": {
      "text/plain": [
       "<Axes: xlabel='cast'>"
      ]
     },
     "execution_count": 41,
     "metadata": {},
     "output_type": "execute_result"
    },
    {
     "data": {
      "image/png": "[encoded data removed]",
      "text/plain": [
       "<Figure size 640x480 with 1 Axes>"
      ]
     },
     "metadata": {},
     "output_type": "display_data"
    }
   ],
   "source": [
    "x.sort_values(ascending=False).head(10).plot(kind=\"bar\")"
   ]
  },
  {
   "cell_type": "markdown",
   "id": "3d5fef85-c2fb-47a9-80c4-6ca488d9ca3c",
   "metadata": {},
   "source": [
    "2. Comparison of tv shows vs. movies.\n",
    "\n",
    "a. Find the number of movies produced in each country and pick the top 10\n",
    "countries."
   ]
  },
  {
   "cell_type": "code",
   "execution_count": 42,
   "id": "b1bf7a06-fdff-4ede-bde0-4547d5c05ebd",
   "metadata": {},
   "outputs": [
    {
     "data": {
      "text/plain": [
       "country\n",
       "United States      2751\n",
       "India               962\n",
       "United Kingdom      532\n",
       "Unknown Country     440\n",
       "Canada              319\n",
       "France              303\n",
       "Germany             182\n",
       "Spain               171\n",
       "Japan               119\n",
       "China               114\n",
       "Name: show_id, dtype: int64"
      ]
     },
     "execution_count": 42,
     "metadata": {},
     "output_type": "execute_result"
    }
   ],
   "source": [
    "x = df[df[\"type\"]==\"Movie\"].groupby(\"country\")[\"show_id\"].nunique()\n",
    "x.sort_values(ascending=False).head(10)"
   ]
  },
  {
   "cell_type": "markdown",
   "id": "18fbb675-d5c2-44eb-9a76-f458a05d3abd",
   "metadata": {},
   "source": [
    "b. Find the number of Tv-Shows produced in each country and pick the top 10\n",
    "countries."
   ]
  },
  {
   "cell_type": "code",
   "execution_count": 43,
   "id": "21e3e51c-e084-4834-9661-7080f6c0769e",
   "metadata": {},
   "outputs": [
    {
     "data": {
      "text/plain": [
       "country\n",
       "United States      938\n",
       "Unknown Country    391\n",
       "United Kingdom     272\n",
       "Japan              199\n",
       "South Korea        170\n",
       "Canada             126\n",
       "France              90\n",
       "India               84\n",
       "Taiwan              70\n",
       "Australia           66\n",
       "Name: show_id, dtype: int64"
      ]
     },
     "execution_count": 43,
     "metadata": {},
     "output_type": "execute_result"
    }
   ],
   "source": [
    "x = df[df[\"type\"]==\"TV Show\"].groupby(\"country\")[\"show_id\"].nunique()\n",
    "x.sort_values(ascending=False).head(10)"
   ]
  },
  {
   "cell_type": "markdown",
   "id": "8b04b89c-ce22-4674-9e60-524da52632d8",
   "metadata": {},
   "source": [
    "3. What is the best time to launch a TV show?\n",
    "\n",
    "a. Find which is the best week to release the Tv-show or the movie. Do the analysis\n",
    "separately for Tv-shows and Movies\n",
    "First we will create columns for month and week by converting column \"date_added\" to datetime. Before that, we need to remove the rows where \"date_added\" is blank/unknown."
   ]
  },
  {
   "cell_type": "code",
   "execution_count": 44,
   "id": "154a1bba-b560-4522-8cca-e95cec4fa1d1",
   "metadata": {},
   "outputs": [],
   "source": [
    "index = df[df[\"date_added\"]==\"Unknown date\"].index\n",
    "df.drop(index,inplace=True)"
   ]
  },
  {
   "cell_type": "code",
   "execution_count": 45,
   "id": "c7f259e5-62f7-44a6-bbb6-290650abc668",
   "metadata": {},
   "outputs": [],
   "source": [
    "df[\"date_added\"] = pd.to_datetime(df[\"date_added\"])"
   ]
  },
  {
   "cell_type": "code",
   "execution_count": 46,
   "id": "387e05ce-73e1-4283-b590-eb7cfeca19c7",
   "metadata": {},
   "outputs": [],
   "source": [
    "df[\"month\"] = df[\"date_added\"].dt.month"
   ]
  },
  {
   "cell_type": "code",
   "execution_count": 47,
   "id": "1bd43f09-a3f9-4fa7-bd40-b4ea5cbe51ff",
   "metadata": {},
   "outputs": [],
   "source": [
    "df[\"Week_of_year\"] = df[\"date_added\"].dt.strftime('%U').astype(int)"
   ]
  },
  {
   "cell_type": "code",
   "execution_count": 48,
   "id": "57fd45e0-4d2d-4a67-8817-d5f458a04620",
   "metadata": {},
   "outputs": [],
   "source": [
    "df[\"Week_of_year\"].replace(0,1,inplace=True)"
   ]
  },
  {
   "cell_type": "markdown",
   "id": "d5ba63fe-3821-4712-8dd2-831f7a6c4ae4",
   "metadata": {},
   "source": [
    "3(a,b) : Now, let's do the analysis for movies and TV-shows based on week and month."
   ]
  },
  {
   "cell_type": "code",
   "execution_count": 49,
   "id": "8a22c30a-b123-4a1e-bc76-ea770551fe52",
   "metadata": {},
   "outputs": [
    {
     "data": {
      "text/plain": [
       "Week_of_year\n",
       "1     323\n",
       "39    241\n",
       "26    234\n",
       "13    231\n",
       "43    204\n",
       "35    195\n",
       "8     192\n",
       "22    180\n",
       "17    177\n",
       "30    152\n",
       "15    139\n",
       "48    136\n",
       "31    125\n",
       "50    124\n",
       "9     121\n",
       "52    116\n",
       "44    112\n",
       "24    111\n",
       "4     110\n",
       "34    109\n",
       "29    108\n",
       "42    105\n",
       "10    105\n",
       "16    103\n",
       "36    102\n",
       "32    101\n",
       "37    101\n",
       "28    101\n",
       "27    100\n",
       "2      98\n",
       "11     98\n",
       "47     96\n",
       "41     91\n",
       "18     91\n",
       "46     90\n",
       "20     90\n",
       "6      89\n",
       "40     88\n",
       "33     87\n",
       "25     82\n",
       "5      81\n",
       "19     81\n",
       "38     78\n",
       "7      75\n",
       "21     74\n",
       "49     74\n",
       "23     72\n",
       "45     71\n",
       "51     70\n",
       "12     63\n",
       "14     63\n",
       "3      62\n",
       "53      9\n",
       "Name: show_id, dtype: int64"
      ]
     },
     "execution_count": 49,
     "metadata": {},
     "output_type": "execute_result"
    }
   ],
   "source": [
    "x = df[df[\"type\"]==\"Movie\"].groupby(\"Week_of_year\")[\"show_id\"].nunique()\n",
    "x.sort_values(ascending=False)"
   ]
  },
  {
   "cell_type": "code",
   "execution_count": 50,
   "id": "3830f9ce-3985-48ba-ad61-df7cb6e8bb2e",
   "metadata": {},
   "outputs": [
    {
     "data": {
      "text/plain": [
       "Week_of_year\n",
       "1     104\n",
       "39     94\n",
       "31     86\n",
       "26     84\n",
       "13     83\n",
       "27     82\n",
       "50     77\n",
       "35     73\n",
       "24     72\n",
       "48     69\n",
       "17     68\n",
       "22     62\n",
       "37     62\n",
       "4      60\n",
       "15     60\n",
       "44     59\n",
       "36     58\n",
       "30     55\n",
       "11     49\n",
       "43     48\n",
       "5      47\n",
       "23     47\n",
       "34     46\n",
       "12     45\n",
       "45     45\n",
       "46     44\n",
       "21     44\n",
       "19     43\n",
       "28     42\n",
       "9      42\n",
       "32     42\n",
       "16     41\n",
       "40     41\n",
       "49     41\n",
       "10     40\n",
       "8      40\n",
       "33     40\n",
       "18     40\n",
       "41     40\n",
       "38     39\n",
       "52     39\n",
       "7      38\n",
       "25     37\n",
       "42     36\n",
       "47     36\n",
       "29     35\n",
       "20     35\n",
       "2      33\n",
       "6      33\n",
       "51     30\n",
       "3      29\n",
       "14     23\n",
       "53      8\n",
       "Name: show_id, dtype: int64"
      ]
     },
     "execution_count": 50,
     "metadata": {},
     "output_type": "execute_result"
    }
   ],
   "source": [
    "x = df[df[\"type\"]==\"TV Show\"].groupby(\"Week_of_year\")[\"show_id\"].nunique()\n",
    "x.sort_values(ascending=False)"
   ]
  },
  {
   "cell_type": "code",
   "execution_count": 51,
   "id": "e8f8e572-f74a-4bc6-be62-7371e99838b1",
   "metadata": {},
   "outputs": [
    {
     "data": {
      "text/plain": [
       "month\n",
       "7     565\n",
       "4     550\n",
       "12    547\n",
       "1     546\n",
       "10    545\n",
       "3     529\n",
       "8     519\n",
       "9     519\n",
       "11    498\n",
       "6     492\n",
       "5     439\n",
       "2     382\n",
       "Name: show_id, dtype: int64"
      ]
     },
     "execution_count": 51,
     "metadata": {},
     "output_type": "execute_result"
    }
   ],
   "source": [
    "x = df[df[\"type\"]==\"Movie\"].groupby(\"month\")[\"show_id\"].nunique()\n",
    "x.sort_values(ascending=False)"
   ]
  },
  {
   "cell_type": "code",
   "execution_count": 52,
   "id": "2e748615-0f2d-4501-ba07-c882c89a1165",
   "metadata": {},
   "outputs": [
    {
     "data": {
      "text/plain": [
       "month\n",
       "12    266\n",
       "7     262\n",
       "9     251\n",
       "6     236\n",
       "8     236\n",
       "10    215\n",
       "4     214\n",
       "3     213\n",
       "11    207\n",
       "5     193\n",
       "1     192\n",
       "2     181\n",
       "Name: show_id, dtype: int64"
      ]
     },
     "execution_count": 52,
     "metadata": {},
     "output_type": "execute_result"
    }
   ],
   "source": [
    "x = df[df[\"type\"]==\"TV Show\"].groupby(\"month\")[\"show_id\"].nunique()\n",
    "x.sort_values(ascending=False)"
   ]
  },
  {
   "cell_type": "markdown",
   "id": "365c8876-1907-4869-91e0-d7c5e7e7723a",
   "metadata": {},
   "source": [
    "4. Analysis of actors/directors of different types of shows/movies.\n",
    "\n",
    "a. Identify the top 10 actor who have appeared in most movies or TV shows.\n",
    "\n",
    "Since the question doesnt require us to do analysis separately for movie and TV-shows, we'll do a total analysis."
   ]
  },
  {
   "cell_type": "code",
   "execution_count": 53,
   "id": "7d3a0480-daea-4f27-8816-762b68988474",
   "metadata": {},
   "outputs": [
    {
     "data": {
      "text/plain": [
       "cast\n",
       "Unknown Actor       825\n",
       "Anupam Kher          43\n",
       "Shah Rukh Khan       35\n",
       "Julie Tejwani        33\n",
       "Naseeruddin Shah     32\n",
       "Takahiro Sakurai     32\n",
       "Rupa Bhimani         31\n",
       "Akshay Kumar         30\n",
       "Om Puri              30\n",
       "Yuki Kaji            29\n",
       "Name: show_id, dtype: int64"
      ]
     },
     "execution_count": 53,
     "metadata": {},
     "output_type": "execute_result"
    }
   ],
   "source": [
    "x = df.groupby(\"cast\")[\"show_id\"].nunique()\n",
    "x.sort_values(ascending=False).head(10)"
   ]
  },
  {
   "cell_type": "markdown",
   "id": "bbca2260-f21e-432c-8135-985e57ff23ea",
   "metadata": {},
   "source": [
    "b. Identify the top 10 directors who have appeared in most movies or TV shows"
   ]
  },
  {
   "cell_type": "code",
   "execution_count": 54,
   "id": "da5e4936-567d-489e-8c9a-f0cefffcc7a6",
   "metadata": {},
   "outputs": [
    {
     "data": {
      "text/plain": [
       "director\n",
       "Unknown Director       2624\n",
       "Rajiv Chilaka            22\n",
       "Jan Suter                21\n",
       "Raúl Campos              19\n",
       "Marcus Raboy             16\n",
       "Suhas Kadav              16\n",
       "Jay Karas                15\n",
       "Cathy Garcia-Molina      13\n",
       "Jay Chapman              12\n",
       "Martin Scorsese          12\n",
       "Name: show_id, dtype: int64"
      ]
     },
     "execution_count": 54,
     "metadata": {},
     "output_type": "execute_result"
    }
   ],
   "source": [
    "x = df.groupby(\"director\")[\"show_id\"].nunique()\n",
    "x.sort_values(ascending=False).head(10)"
   ]
  },
  {
   "cell_type": "markdown",
   "id": "3b36f371-81da-47c2-a599-a899c33e2b3a",
   "metadata": {},
   "source": [
    "5. Which genre movies are more popular or produced more"
   ]
  },
  {
   "cell_type": "code",
   "execution_count": 55,
   "id": "f31cc7b9-1dac-43e9-9a89-6862549d3a0c",
   "metadata": {},
   "outputs": [
    {
     "data": {
      "text/plain": [
       "listed_in\n",
       "International Movies        2752\n",
       "Dramas                      2427\n",
       "Comedies                    1674\n",
       "International TV Shows      1350\n",
       "Documentaries                869\n",
       "Action & Adventure           859\n",
       "TV Dramas                    762\n",
       "Independent Movies           756\n",
       "Children & Family Movies     641\n",
       "Romantic Movies              616\n",
       "Thrillers                    577\n",
       "TV Comedies                  574\n",
       "Crime TV Shows               469\n",
       "Kids' TV                     449\n",
       "Docuseries                   394\n",
       "Name: show_id, dtype: int64"
      ]
     },
     "execution_count": 55,
     "metadata": {},
     "output_type": "execute_result"
    }
   ],
   "source": [
    "x = df.groupby(\"listed_in\")[\"show_id\"].nunique()\n",
    "x.sort_values(ascending=False).head(15)"
   ]
  },
  {
   "cell_type": "markdown",
   "id": "4da5b9c6-487d-4d23-9ac0-6961c1c116ca",
   "metadata": {},
   "source": [
    "6. Find After how many days the movie will be added to OTT after the release of the movie (you can consider the recent past data)"
   ]
  },
  {
   "cell_type": "code",
   "execution_count": 56,
   "id": "c01e8839-d253-4e86-b6ad-cbffe3431657",
   "metadata": {},
   "outputs": [],
   "source": [
    "df[\"year_added\"] = df[\"date_added\"].dt.year"
   ]
  },
  {
   "cell_type": "code",
   "execution_count": 57,
   "id": "f2b807f4-6fec-487f-a13b-478d23cf9ad0",
   "metadata": {},
   "outputs": [],
   "source": [
    "df[\"year_diff\"] = df[\"year_added\"] - df[\"release_year\"]"
   ]
  },
  {
   "cell_type": "code",
   "execution_count": 58,
   "id": "4cf81617-3159-488d-acc3-885c1205f9d7",
   "metadata": {},
   "outputs": [
    {
     "data": {
      "text/plain": [
       "0    0\n",
       "Name: year_diff, dtype: int64"
      ]
     },
     "execution_count": 58,
     "metadata": {},
     "output_type": "execute_result"
    }
   ],
   "source": [
    "df[\"year_diff\"].mode()"
   ]
  },
  {
   "cell_type": "markdown",
   "id": "62e0c33b-1a5c-4f92-9e8f-2296aa3804b1",
   "metadata": {},
   "source": [
    "How has the number of movies released per year changed over the last 20-30 years?"
   ]
  },
  {
   "cell_type": "code",
   "execution_count": 59,
   "id": "dd125c69-97d4-434a-a6d3-8c04f4202f7c",
   "metadata": {},
   "outputs": [
    {
     "data": {
      "text/plain": [
       "<Axes: xlabel='release_year', ylabel='show_id'>"
      ]
     },
     "execution_count": 59,
     "metadata": {},
     "output_type": "execute_result"
    },
    {
     "data": {
      "image/png": "[encoded data removed]",
      "text/plain": [
       "<Figure size 640x480 with 1 Axes>"
      ]
     },
     "metadata": {},
     "output_type": "display_data"
    }
   ],
   "source": [
    "x = df[(df[\"release_year\"]<=df[\"release_year\"].max()) & (df[\"release_year\"]>=df[\"release_year\"].max()-30) & (df[\"type\"]==\"Movie\")]\n",
    "x = x.groupby(\"release_year\")[\"show_id\"].nunique()\n",
    "x = pd.DataFrame(x.reset_index())\n",
    "sns.lineplot(x=\"release_year\", y = \"show_id\", data = x)"
   ]
  },
  {
   "cell_type": "markdown",
   "id": "fc1ad39f-c9e2-44e1-bf90-83eafae02f68",
   "metadata": {},
   "source": [
    "Does OTT has more focus on TV Shows than movies in recent years?\n",
    "\n",
    "Let's take a timeframe of last 10 years"
   ]
  },
  {
   "cell_type": "code",
   "execution_count": 60,
   "id": "cb9e7ffb-1ebc-48db-8970-354a6fb2be58",
   "metadata": {},
   "outputs": [
    {
     "data": {
      "text/plain": [
       "<Axes: xlabel='type'>"
      ]
     },
     "execution_count": 60,
     "metadata": {},
     "output_type": "execute_result"
    },
    {
     "data": {
      "image/png": "[encoded data removed]",
      "text/plain": [
       "<Figure size 640x480 with 1 Axes>"
      ]
     },
     "metadata": {},
     "output_type": "display_data"
    }
   ],
   "source": [
    "x = df[(df[\"release_year\"]<=df[\"release_year\"].max()) & (df[\"release_year\"]>=df[\"release_year\"].max()-10)]\n",
    "x = x.groupby(\"type\")[\"show_id\"].nunique()\n",
    "x.plot(kind=\"bar\")"
   ]
  },
  {
   "cell_type": "markdown",
   "id": "d16dc80d-05c5-4499-ac87-f63257eba388",
   "metadata": {},
   "source": [
    "Understanding what content is available in different countries"
   ]
  },
  {
   "cell_type": "code",
   "execution_count": 61,
   "id": "7a9f40b1-7b13-4619-a412-9e744e821333",
   "metadata": {},
   "outputs": [
    {
     "data": {
      "text/plain": [
       "1    66\n",
       "2    61\n",
       "Name: type, dtype: int64"
      ]
     },
     "execution_count": 61,
     "metadata": {},
     "output_type": "execute_result"
    }
   ],
   "source": [
    "x = df.groupby(\"country\")[\"type\"].nunique()\n",
    "x = pd.DataFrame(x.reset_index())\n",
    "\n",
    "x[\"type\"].value_counts()"
   ]
  },
  {
   "cell_type": "markdown",
   "id": "f486cd63-d744-423f-a328-0eb1afc85a31",
   "metadata": {},
   "source": [
    "Relation between ratings and countries"
   ]
  },
  {
   "cell_type": "code",
   "execution_count": 62,
   "id": "9cf69fff-1d37-4361-8358-6b27bfc70b95",
   "metadata": {},
   "outputs": [
    {
     "data": {
      "text/plain": [
       "<Axes: xlabel='rating'>"
      ]
     },
     "execution_count": 62,
     "metadata": {},
     "output_type": "execute_result"
    },
    {
     "data": {
      "image/png": "[encoded data removed]",
      "text/plain": [
       "<Figure size 640x480 with 1 Axes>"
      ]
     },
     "metadata": {},
     "output_type": "display_data"
    }
   ],
   "source": [
    "x = df.groupby(\"rating\")[\"country\"].nunique()\n",
    "x.sort_values(ascending=False).head(15).plot(kind=\"bar\")"
   ]
  },
  {
   "cell_type": "markdown",
   "id": "5b96d059-0025-4c07-ab38-e83f71efa676",
   "metadata": {},
   "source": []
  },
  {
   "cell_type": "markdown",
   "id": "0c9b89df-fbcb-46ca-8e9a-a1c342b05f24",
   "metadata": {},
   "source": [
    "Business Insights:\n",
    "\n",
    "1) Data is available only for 127 and there is a huge number of content for which country data is not present.\n",
    "\n",
    "2) First analysis(29,30) shows that USA has highest content. Though US does create a lot of content, this might be due to higher and better data collection from US and due to country data not being available for a lot of content in data. Case in point, it is well known that India creates highest number of content in world.\n",
    "\n",
    "3) International movies category has the highest percentage in the current data, closely followed by Dramas and then comedies. There isnt much to decode from here since a content can be tagged in multiple categories.\n",
    "\n",
    "4) As per available data, as compared to TV shows, movies still rule the roost in terms of quantity. This is true even for last 10 years.\n",
    "\n",
    "5) \"TVMA\" rating has the highest percentage on the current content data. This might be due to the fact that it is used for both movies and TV shows. This rating also has most content available in highest number of countries.\n",
    "\n",
    "6) A disproportionally large data doesn't have any value in for cast. Other than that, Indian actors have the most content credits.\n",
    "\n",
    "7) Nearly one-third of data doesn't have any data for director's credit.\n",
    "\n",
    "8) USA rules both in terms of number of movies and TV shows.\n",
    "\n",
    "9) If we go by content released on OTT, first week of year has highest number of releases for both movie and TV shows. This followed by week number 39 which falls in Septemeber.\n",
    "\n",
    "10) Release of movie and TV shows doesn't have any clear insight in terms of release month.\n",
    "\n",
    "11) Data shows that most of the times, majority of content is made available on OTT at the time of it's actual release. This might be due to the fact that only year is available for \"release_date\" instead of date.\n",
    "\n",
    "12) Data clearly shows that number of movies has increased repidly after 2012 but declined in later years (maybe due to pandemic).\n",
    "\n",
    "13) As per data, more than half of countries has either movies or TV show availabilty. Both type of content is available only in less than half of countries.\n"
   ]
  },
  {
   "cell_type": "markdown",
   "id": "83a80460-0a85-4cfd-829f-dd91a630adf4",
   "metadata": {},
   "source": [
    "Recommendations:\n",
    "\n",
    "1) The first and foremost thing to do is to increase the data availabilty. The data has lots of important missing values. This could be done by making it compulsory in the data entry software being used to enter values in atleast important fields like country and director. Better data leads to better analysis.\n",
    "\n",
    "2) It would be better if budget, revenue and customer-review score could also be added to data. That would make analysis more detailed and business oriented.\n",
    "\n",
    "3) New content and hence data should be added for emerging countries like India. This would help in calibrate the strategy by better analysis.\n",
    "\n",
    "4) Wherever possible, both type of content (movies and TV shows) should be made available in majority countries. Right now, more than half of countries has only one type of content available.\n",
    "\n",
    "5) Full date should be used for \"release date\" data.\n",
    "\n",
    "6) OTT should make more shows targeted at emerging markets like India.\n",
    "\n",
    "7) Efforts should be made to collect data from countries other than USA. Currently, most of the content data is USA dominated."
   ]
  }
 ],
 "metadata": {
  "kernelspec": {
   "display_name": "Python 3 (ipykernel)",
   "language": "python",
   "name": "python3"
  },
  "language_info": {
   "codemirror_mode": {
    "name": "ipython",
    "version": 3
   },
   "file_extension": ".py",
   "mimetype": "text/x-python",
   "name": "python",
   "nbconvert_exporter": "python",
   "pygments_lexer": "ipython3",
   "version": "3.11.4"
  }
 },
 "nbformat": 4,
 "nbformat_minor": 5
}
